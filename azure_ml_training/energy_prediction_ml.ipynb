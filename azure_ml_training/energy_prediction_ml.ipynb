{
  "cells": [
    {
      "cell_type": "code",
      "source": [
        "from azure.identity import DefaultAzureCredential, InteractiveBrowserCredential\n",
        "from azure.ai.ml import MLClient\n",
        "\n",
        "try:\n",
        "    credential = DefaultAzureCredential()\n",
        "    # Check if given credential can get token successfully.\n",
        "    credential.get_token(\"https://management.azure.com/.default\")\n",
        "except Exception as ex:\n",
        "    # Fall back to InteractiveBrowserCredential in case DefaultAzureCredential not work\n",
        "    credential = InteractiveBrowserCredential()"
      ],
      "outputs": [],
      "execution_count": 1,
      "metadata": {
        "jupyter": {
          "source_hidden": false,
          "outputs_hidden": false
        },
        "nteract": {
          "transient": {
            "deleting": false
          }
        },
        "gather": {
          "logged": 1703500692479
        }
      }
    },
    {
      "cell_type": "code",
      "source": [
        "ml_client = MLClient.from_config(credential=credential)"
      ],
      "outputs": [
        {
          "output_type": "stream",
          "name": "stderr",
          "text": "Found the config file in: /config.json\n"
        }
      ],
      "execution_count": 2,
      "metadata": {
        "jupyter": {
          "source_hidden": false,
          "outputs_hidden": false
        },
        "nteract": {
          "transient": {
            "deleting": false
          }
        },
        "gather": {
          "logged": 1703500693650
        }
      }
    },
    {
      "cell_type": "code",
      "source": [
        "import os \n",
        "script_folder = \"src\"\n",
        "os.makedirs(script_folder, exist_ok=True)\n",
        "print(script_folder, \"source folder created\")\n"
      ],
      "outputs": [
        {
          "output_type": "stream",
          "name": "stdout",
          "text": "src source folder created\n"
        }
      ],
      "execution_count": 3,
      "metadata": {
        "gather": {
          "logged": 1703500694374
        }
      }
    },
    {
      "cell_type": "code",
      "source": [
        "%%writefile $script_folder/prep-data.py\n",
        "import argparse\n",
        "import pandas as pd\n",
        "import numpy as np\n",
        "from pathlib import Path\n",
        "import glob\n",
        "\n",
        "\n",
        "def main(args):\n",
        "    \n",
        "    df = getData(args.input_data)\n",
        "    remove_na_columns(df)\n",
        "    remove_na_rows(df)\n",
        "    remove_id(df)\n",
        "    output_df = df.to_csv((Path(args.output_data) / \"energy_processed_data.csv\"), index = False)\n",
        "\n",
        "\n",
        "def remove_na_columns(df):\n",
        "    df.dropna(axis=1, thresh= 0.3*len(df), inplace=True)\n",
        "\n",
        "def remove_na_rows(df):\n",
        "    df.dropna(axis = 0, inplace = True)\n",
        "\n",
        "def remove_id(df):\n",
        "    df.drop(columns = ['trainrow_id', 'segment'], axis=1, inplace = True)\n",
        "\n",
        "def getData(path):\n",
        "    all_files = glob.glob(path + \"/part*.csv\")\n",
        "    df = pd.concat((pd.read_csv(f) for f in all_files), sort=False) \n",
        "    return df\n",
        "\n",
        "def parse_args():\n",
        "    parser = argparse.ArgumentParser()\n",
        "    parser.add_argument(\"--input_data\", dest= \"input_data\", type = str)\n",
        "    parser.add_argument(\"--output_data\", dest=\"output_data\", type = str)\n",
        "    args = parser.parse_args()\n",
        "    return args\n",
        "\n",
        "if __name__ == \"__main__\":\n",
        "\n",
        "    args = parse_args()\n",
        "    main(args)\n"
      ],
      "outputs": [
        {
          "output_type": "stream",
          "name": "stdout",
          "text": "Overwriting src/prep-data.py\n"
        }
      ],
      "execution_count": 63,
      "metadata": {
        "jupyter": {
          "source_hidden": false,
          "outputs_hidden": false
        },
        "nteract": {
          "transient": {
            "deleting": false
          }
        },
        "gather": {
          "logged": 1703446119849
        }
      }
    },
    {
      "cell_type": "code",
      "source": [
        "%%writefile $script_folder/train-model.py\n",
        "# import libraries\n",
        "import mlflow\n",
        "import glob\n",
        "import argparse\n",
        "import pandas as pd\n",
        "import numpy as np\n",
        "from sklearn.model_selection import train_test_split\n",
        "from sklearn.linear_model import ElasticNet\n",
        "from sklearn.metrics import mean_absolute_error\n",
        "import matplotlib.pyplot as plt\n",
        "\n",
        "def main(args):\n",
        "    mlflow.autolog()\n",
        "\n",
        "    df = get_data(args.training_data)\n",
        "    x_train, x_test, y_train, y_test = split_data(df)\n",
        "    model = train_model(args.alpha, args.l1_ratio, x_train, y_train)\n",
        "    eval_model(model, x_test, y_test)\n",
        "\n",
        "def get_data(path):\n",
        "    all_files = glob.glob(path + \"/*.csv\")\n",
        "    df = pd.concat((pd.read_csv(f) for f in all_files), sort=False) \n",
        "    return df\n",
        "    \n",
        "\n",
        "def split_data(df):\n",
        "    print(\"splitting data\")\n",
        "    X, y = df.drop(\"traintarget\", axis = 1), df[\"traintarget\"]\n",
        "    x_train, x_test, y_train, y_test = train_test_split(X, y, test_size=0.3, random_state=0)\n",
        "    return x_train, x_test, y_train, y_test\n",
        "\n",
        "def train_model(alpha, l1_ratio, x_train, y_train):\n",
        "    print(\"training data\")\n",
        "    elastic_net = ElasticNet(alpha = 0.1, l1_ratio = 0.5)\n",
        "    model = elastic_net.fit(x_train, y_train)\n",
        "    mlflow.sklearn.save_model(model, args.model_output)\n",
        "    return model\n",
        "\n",
        "def eval_model(model, x_test, y_test):\n",
        "    print(\"evaluating data\")\n",
        "    y_pred = model.predict(x_test)\n",
        "    mean_abs_error = mean_absolute_error(y_test, y_pred)\n",
        "    print(\"Mean Absolute Error :\", mean_abs_error)\n",
        "\n",
        "def parse_args():\n",
        "\n",
        "    parser = argparse.ArgumentParser()\n",
        "\n",
        "    parser.add_argument(\"--training_data\", dest = \"training_data\", type = str)\n",
        "    parser.add_argument(\"--alpha\", dest = \"alpha\", type = float,  default = 0.01)\n",
        "    parser.add_argument(\"--l1_ratio\", dest = \"l1_ratio\", type = float,  default = 0.5)\n",
        "    parser.add_argument(\"--model_output\", dest=\"model_output\", type=str)\n",
        "\n",
        "    args = parser.parse_args()\n",
        "\n",
        "    return args\n",
        "    \n",
        "if __name__ == \"__main__\":\n",
        "\n",
        "    args = parse_args()\n",
        "    main(args)\n",
        "\n",
        "\n",
        "\n",
        "\n",
        "    \n"
      ],
      "outputs": [
        {
          "output_type": "stream",
          "name": "stdout",
          "text": "Overwriting src/train-model.py\n"
        }
      ],
      "execution_count": 64,
      "metadata": {
        "jupyter": {
          "source_hidden": false,
          "outputs_hidden": false
        },
        "nteract": {
          "transient": {
            "deleting": false
          }
        }
      }
    },
    {
      "cell_type": "code",
      "source": [
        "%%writefile prep-data.yml\n",
        "$schema: https://azuremlschemas.azureedge.net/latest/commandComponent.schema.json\n",
        "name: prep_data\n",
        "display_name: Prepare training data\n",
        "version: 1\n",
        "type: command\n",
        "inputs:\n",
        "  input_data: \n",
        "    type: uri_folder\n",
        "outputs:\n",
        "  output_data:\n",
        "    type: uri_folder\n",
        "code: ./src\n",
        "environment: azureml:AzureML-sklearn-0.24-ubuntu18.04-py37-cpu@latest\n",
        "command: >-\n",
        "  python prep-data.py \n",
        "  --input_data ${{inputs.input_data}}\n",
        "  --output_data ${{outputs.output_data}}\n"
      ],
      "outputs": [
        {
          "output_type": "stream",
          "name": "stdout",
          "text": "Overwriting prep-data.yml\n"
        }
      ],
      "execution_count": 65,
      "metadata": {
        "jupyter": {
          "source_hidden": false,
          "outputs_hidden": false
        },
        "nteract": {
          "transient": {
            "deleting": false
          }
        }
      }
    },
    {
      "cell_type": "code",
      "source": [
        "%%writefile train-model.yml\n",
        "$schema: https://azuremlschemas.azureedge.net/latest/commandComponent.schema.json\n",
        "name: train_model\n",
        "display_name: Train a ElasticNet Regressor\n",
        "version: 1\n",
        "type: command\n",
        "inputs:\n",
        "  training_data: \n",
        "    type: uri_folder\n",
        "  alpha:\n",
        "    type: number\n",
        "    default: 0.1\n",
        "  l1_ratio:\n",
        "    type: number\n",
        "    default: 1\n",
        "outputs:\n",
        "  model_output:\n",
        "    type: mlflow_model\n",
        "code: ./src\n",
        "environment: azureml:AzureML-sklearn-0.24-ubuntu18.04-py37-cpu@latest\n",
        "command: >-\n",
        "  python train-model.py \n",
        "  --training_data ${{inputs.training_data}} \n",
        "  --alpha ${{inputs.alpha}}\n",
        "  --l1_ratio ${{inputs.l1_ratio}}\n",
        "  --model_output ${{outputs.model_output}} "
      ],
      "outputs": [
        {
          "output_type": "stream",
          "name": "stdout",
          "text": "Overwriting train-model.yml\n"
        }
      ],
      "execution_count": 76,
      "metadata": {
        "jupyter": {
          "source_hidden": false,
          "outputs_hidden": false
        },
        "nteract": {
          "transient": {
            "deleting": false
          }
        },
        "gather": {
          "logged": 1703458572766
        }
      }
    },
    {
      "cell_type": "code",
      "source": [
        "from azure.ai.ml import load_component\n",
        "\n",
        "parent_dir = \"\"\n",
        "\n",
        "prep_data = load_component(source=parent_dir + \"./prep-data.yml\")\n",
        "train_elastic_net = load_component(source = parent_dir + \"./train-model.yml\")"
      ],
      "outputs": [],
      "execution_count": 77,
      "metadata": {
        "jupyter": {
          "source_hidden": false,
          "outputs_hidden": false
        },
        "nteract": {
          "transient": {
            "deleting": false
          }
        },
        "gather": {
          "logged": 1703505145349
        }
      }
    },
    {
      "cell_type": "code",
      "source": [
        "from azure.ai.ml import Input\n",
        "from azure.ai.ml.constants import AssetTypes\n",
        "from azure.ai.ml.dsl import pipeline\n",
        "\n",
        "path = \"azureml://subscriptions/bed94d1c-96c0-4620-93e0-311ec364075a/resourcegroups/energy_prediction/workspaces/energ_prediction_ml/datastores/energy_datas_hover\"\n",
        "\n",
        "@pipeline\n",
        "def energy_prediction(pipeline_job_input):\n",
        "    process_data = prep_data(input_data = pipeline_job_input)\n",
        "    train_model = train_elastic_net(training_data=process_data.outputs.output_data)\n",
        "\n",
        "    return {\n",
        "        \"pipeline_job_transformed_data\": process_data.outputs.output_data,\n",
        "        \"pipeline_job_trained_model\": train_model.outputs.model_output,\n",
        "    }\n",
        "pipeline_job = energy_prediction(Input(type = AssetTypes.URI_FOLDER, path=\"azureml://subscriptions/bed94d1c-96c0-4620-93e0-311ec364075a/resourcegroups/energy_prediction/workspaces/energ_prediction_ml/datastores/energy_datas_hover/paths/transformeddata/transformed_energy_data\"))"
      ],
      "outputs": [],
      "execution_count": 78,
      "metadata": {
        "jupyter": {
          "source_hidden": false,
          "outputs_hidden": false
        },
        "nteract": {
          "transient": {
            "deleting": false
          }
        },
        "gather": {
          "logged": 1703505145946
        }
      }
    },
    {
      "cell_type": "code",
      "source": [
        "print(pipeline_job)"
      ],
      "outputs": [
        {
          "output_type": "stream",
          "name": "stdout",
          "text": "display_name: energy_prediction\ntype: pipeline\ninputs:\n  pipeline_job_input:\n    type: uri_folder\n    path: azureml://subscriptions/bed94d1c-96c0-4620-93e0-311ec364075a/resourcegroups/energy_prediction/workspaces/energ_prediction_ml/datastores/energy_datas_hover/paths/transformeddata/transformed_energy_data\noutputs:\n  pipeline_job_transformed_data:\n    type: uri_folder\n  pipeline_job_trained_model:\n    type: mlflow_model\njobs:\n  process_data:\n    type: command\n    inputs:\n      input_data:\n        path: ${{parent.inputs.pipeline_job_input}}\n    outputs:\n      output_data: ${{parent.outputs.pipeline_job_transformed_data}}\n    component:\n      $schema: https://azuremlschemas.azureedge.net/latest/commandComponent.schema.json\n      name: prep_data\n      version: '1'\n      display_name: Prepare training data\n      type: command\n      inputs:\n        input_data:\n          type: uri_folder\n      outputs:\n        output_data:\n          type: uri_folder\n      command: python prep-data.py  --input_data ${{inputs.input_data}} --output_data\n        ${{outputs.output_data}}\n      environment: azureml:AzureML-sklearn-0.24-ubuntu18.04-py37-cpu@latest\n      code: /mnt/batch/tasks/shared/LS_root/mounts/clusters/energycomputetrain/code/Users/rafeek_1997/src\n      is_deterministic: true\n  train_model:\n    type: command\n    inputs:\n      training_data:\n        path: ${{parent.jobs.process_data.outputs.output_data}}\n    outputs:\n      model_output: ${{parent.outputs.pipeline_job_trained_model}}\n    component:\n      $schema: https://azuremlschemas.azureedge.net/latest/commandComponent.schema.json\n      name: train_model\n      version: '1'\n      display_name: Train a decision tree classifier model\n      type: command\n      inputs:\n        training_data:\n          type: uri_folder\n        alpha:\n          type: number\n          default: '0.01'\n        l1_ratio:\n          type: number\n          default: '0.5'\n      outputs:\n        model_output:\n          type: mlflow_model\n      command: 'python train-model.py  --training_data ${{inputs.training_data}}  --alpha\n        ${{inputs.alpha}} --l1_ratio ${{inputs.l1_ratio}} --model_output ${{outputs.model_output}} '\n      environment: azureml:AzureML-sklearn-0.24-ubuntu18.04-py37-cpu@latest\n      code: /mnt/batch/tasks/shared/LS_root/mounts/clusters/energycomputetrain/code/Users/rafeek_1997/src\n      is_deterministic: true\n\n"
        }
      ],
      "execution_count": 69,
      "metadata": {
        "jupyter": {
          "source_hidden": false,
          "outputs_hidden": false
        },
        "nteract": {
          "transient": {
            "deleting": false
          }
        },
        "gather": {
          "logged": 1703503588060
        }
      }
    },
    {
      "cell_type": "code",
      "source": [
        "pipeline_job.outputs.pipeline_job_transformed_data.mode = \"upload\"\n",
        "pipeline_job.outputs.pipeline_job_trained_model.mode = \"upload\"\n",
        "pipeline_job.settings.default_compute = \"energycomputetrain\"\n",
        "pipeline_job.settings.default_datastore = \"workspaceblobstore\"\n",
        "print(pipeline_job)"
      ],
      "outputs": [
        {
          "output_type": "stream",
          "name": "stdout",
          "text": "display_name: energy_prediction\ntype: pipeline\ninputs:\n  pipeline_job_input:\n    type: uri_folder\n    path: azureml://subscriptions/bed94d1c-96c0-4620-93e0-311ec364075a/resourcegroups/energy_prediction/workspaces/energ_prediction_ml/datastores/energy_datas_hover/paths/transformeddata/transformed_energy_data\noutputs:\n  pipeline_job_transformed_data:\n    mode: upload\n    type: uri_folder\n  pipeline_job_trained_model:\n    mode: upload\n    type: mlflow_model\njobs:\n  process_data:\n    type: command\n    inputs:\n      input_data:\n        path: ${{parent.inputs.pipeline_job_input}}\n    outputs:\n      output_data: ${{parent.outputs.pipeline_job_transformed_data}}\n    component:\n      $schema: https://azuremlschemas.azureedge.net/latest/commandComponent.schema.json\n      name: prep_data\n      version: '1'\n      display_name: Prepare training data\n      type: command\n      inputs:\n        input_data:\n          type: uri_folder\n      outputs:\n        output_data:\n          type: uri_folder\n      command: python prep-data.py  --input_data ${{inputs.input_data}} --output_data\n        ${{outputs.output_data}}\n      environment: azureml:AzureML-sklearn-0.24-ubuntu18.04-py37-cpu@latest\n      code: /mnt/batch/tasks/shared/LS_root/mounts/clusters/energycomputetrain/code/Users/rafeek_1997/src\n      is_deterministic: true\n  train_model:\n    type: command\n    inputs:\n      training_data:\n        path: ${{parent.jobs.process_data.outputs.output_data}}\n    outputs:\n      model_output: ${{parent.outputs.pipeline_job_trained_model}}\n    component:\n      $schema: https://azuremlschemas.azureedge.net/latest/commandComponent.schema.json\n      name: train_model\n      version: '1'\n      display_name: Train a ElasticNet Regressor\n      type: command\n      inputs:\n        training_data:\n          type: uri_folder\n        alpha:\n          type: number\n          default: '0.1'\n        l1_ratio:\n          type: number\n          default: '1.0'\n      outputs:\n        model_output:\n          type: mlflow_model\n      command: 'python train-model.py  --training_data ${{inputs.training_data}}  --alpha\n        ${{inputs.alpha}} --l1_ratio ${{inputs.l1_ratio}} --model_output ${{outputs.model_output}} '\n      environment: azureml:AzureML-sklearn-0.24-ubuntu18.04-py37-cpu@latest\n      code: /mnt/batch/tasks/shared/LS_root/mounts/clusters/energycomputetrain/code/Users/rafeek_1997/src\n      is_deterministic: true\nsettings:\n  default_compute: azureml:energycomputetrain\n  default_datastore: azureml:workspaceblobstore\n\n"
        }
      ],
      "execution_count": 79,
      "metadata": {
        "jupyter": {
          "source_hidden": false,
          "outputs_hidden": false
        },
        "nteract": {
          "transient": {
            "deleting": false
          }
        },
        "gather": {
          "logged": 1703505150314
        }
      }
    },
    {
      "cell_type": "code",
      "source": [
        "pipeline_job = ml_client.jobs.create_or_update(\n",
        "    pipeline_job, experiment_name=\"energy_prediction\"\n",
        ")\n",
        "pipeline_job"
      ],
      "outputs": [
        {
          "output_type": "execute_result",
          "execution_count": 80,
          "data": {
            "text/plain": "PipelineJob({'inputs': {'pipeline_job_input': <azure.ai.ml.entities._job.pipeline._io.base.PipelineInput object at 0x7f6739c3b670>}, 'outputs': {'pipeline_job_transformed_data': <azure.ai.ml.entities._job.pipeline._io.base.PipelineOutput object at 0x7f6739c38e80>, 'pipeline_job_trained_model': <azure.ai.ml.entities._job.pipeline._io.base.PipelineOutput object at 0x7f6739c38850>}, 'jobs': {}, 'component': PipelineComponent({'intellectual_property': None, 'auto_increment_version': False, 'source': 'REMOTE.WORKSPACE.JOB', 'is_anonymous': True, 'auto_delete_setting': None, 'name': 'azureml_anonymous', 'description': None, 'tags': {}, 'properties': {}, 'print_as_yaml': True, 'id': None, 'Resource__source_path': None, 'base_path': '/mnt/batch/tasks/shared/LS_root/mounts/clusters/energycomputetrain/code/Users/rafeek_1997', 'creation_context': None, 'serialize': <msrest.serialization.Serializer object at 0x7f6739c3a7d0>, 'version': '1', 'latest_version': None, 'schema': None, 'type': 'pipeline', 'display_name': 'energy_prediction', 'is_deterministic': None, 'inputs': {'pipeline_job_input': {}}, 'outputs': {'pipeline_job_transformed_data': {}, 'pipeline_job_trained_model': {}}, 'yaml_str': None, 'other_parameter': {}, 'jobs': {'process_data': Command({'parameters': {}, 'init': False, 'name': 'process_data', 'type': 'command', 'status': None, 'log_files': None, 'description': None, 'tags': {}, 'properties': {}, 'print_as_yaml': True, 'id': None, 'Resource__source_path': None, 'base_path': '/mnt/batch/tasks/shared/LS_root/mounts/clusters/energycomputetrain/code/Users/rafeek_1997', 'creation_context': None, 'serialize': <msrest.serialization.Serializer object at 0x7f6739c38a90>, 'allowed_keys': {}, 'key_restriction': False, 'logger': <Logger attr_dict (WARNING)>, 'display_name': None, 'experiment_name': None, 'compute': None, 'services': None, 'comment': None, 'job_inputs': {'input_data': '${{parent.inputs.pipeline_job_input}}'}, 'job_outputs': {'output_data': '${{parent.outputs.pipeline_job_transformed_data}}'}, 'inputs': {'input_data': <azure.ai.ml.entities._job.pipeline._io.base.NodeInput object at 0x7f6739c3b5b0>}, 'outputs': {'output_data': <azure.ai.ml.entities._job.pipeline._io.base.NodeOutput object at 0x7f6739c39ff0>}, 'component': 'azureml_anonymous:f78ea0b2-4fd6-4d1a-aeb1-052a0653059f', 'referenced_control_flow_node_instance_id': None, 'kwargs': {'services': None}, 'instance_id': '0218fca3-960e-48a9-8710-6f5ddc22419c', 'source': 'REMOTE.WORKSPACE.COMPONENT', 'validate_required_input_not_provided': True, 'limits': None, 'identity': None, 'distribution': None, 'environment_variables': {}, 'environment': None, 'resources': None, 'queue_settings': None, 'swept': False}), 'train_model': Command({'parameters': {}, 'init': False, 'name': 'train_model', 'type': 'command', 'status': None, 'log_files': None, 'description': None, 'tags': {}, 'properties': {}, 'print_as_yaml': True, 'id': None, 'Resource__source_path': None, 'base_path': '/mnt/batch/tasks/shared/LS_root/mounts/clusters/energycomputetrain/code/Users/rafeek_1997', 'creation_context': None, 'serialize': <msrest.serialization.Serializer object at 0x7f6739c3bd30>, 'allowed_keys': {}, 'key_restriction': False, 'logger': <Logger attr_dict (WARNING)>, 'display_name': None, 'experiment_name': None, 'compute': None, 'services': None, 'comment': None, 'job_inputs': {'training_data': '${{parent.jobs.process_data.outputs.output_data}}'}, 'job_outputs': {'model_output': '${{parent.outputs.pipeline_job_trained_model}}'}, 'inputs': {'training_data': <azure.ai.ml.entities._job.pipeline._io.base.NodeInput object at 0x7f6739c39540>}, 'outputs': {'model_output': <azure.ai.ml.entities._job.pipeline._io.base.NodeOutput object at 0x7f6739c3b550>}, 'component': 'azureml_anonymous:9937ba12-036f-47b5-9e6e-c6ae7becb420', 'referenced_control_flow_node_instance_id': None, 'kwargs': {'services': None}, 'instance_id': '99a54ea8-bdde-40a6-8e19-6f6a596a1187', 'source': 'REMOTE.WORKSPACE.COMPONENT', 'validate_required_input_not_provided': True, 'limits': None, 'identity': None, 'distribution': None, 'environment_variables': {}, 'environment': None, 'resources': None, 'queue_settings': None, 'swept': False})}, 'job_types': {'command': 2}, 'job_sources': {'REMOTE.WORKSPACE.COMPONENT': 2}, 'source_job_id': None}), 'type': 'pipeline', 'status': 'Preparing', 'log_files': None, 'name': 'clever_garden_dtkjkjb9vb', 'description': None, 'tags': {}, 'properties': {'azureml.DevPlatv2': 'true', 'azureml.DatasetAccessMode': 'Asset', 'azureml.runsource': 'azureml.PipelineRun', 'runSource': 'MFE', 'runType': 'HTTP', 'azureml.parameters': '{}', 'azureml.continue_on_step_failure': 'True', 'azureml.continue_on_failed_optional_input': 'True', 'azureml.enforceRerun': 'False', 'azureml.defaultComputeName': 'energycomputetrain', 'azureml.defaultDataStoreName': 'workspaceblobstore', 'azureml.pipelineComponent': 'pipelinerun'}, 'print_as_yaml': True, 'id': '/subscriptions/bed94d1c-96c0-4620-93e0-311ec364075a/resourceGroups/energy_prediction/providers/Microsoft.MachineLearningServices/workspaces/energ_prediction_ml/jobs/clever_garden_dtkjkjb9vb', 'Resource__source_path': None, 'base_path': '/mnt/batch/tasks/shared/LS_root/mounts/clusters/energycomputetrain/code/Users/rafeek_1997', 'creation_context': <azure.ai.ml.entities._system_data.SystemData object at 0x7f6739c38e50>, 'serialize': <msrest.serialization.Serializer object at 0x7f6739c39300>, 'display_name': 'energy_prediction', 'experiment_name': 'energy_prediction', 'compute': None, 'services': {'Tracking': {'endpoint': 'azureml://eastus.api.azureml.ms/mlflow/v1.0/subscriptions/bed94d1c-96c0-4620-93e0-311ec364075a/resourceGroups/energy_prediction/providers/Microsoft.MachineLearningServices/workspaces/energ_prediction_ml?', 'type': 'Tracking'}, 'Studio': {'endpoint': 'https://ml.azure.com/runs/clever_garden_dtkjkjb9vb?wsid=/subscriptions/bed94d1c-96c0-4620-93e0-311ec364075a/resourcegroups/energy_prediction/workspaces/energ_prediction_ml&tid=84daf99a-e460-4e17-a8f0-c41d756011a9', 'type': 'Studio'}}, 'settings': {}, 'identity': None, 'default_code': None, 'default_environment': None})",
            "text/html": "<table style=\"width:100%\"><tr><th>Experiment</th><th>Name</th><th>Type</th><th>Status</th><th>Details Page</th></tr><tr><td>energy_prediction</td><td>clever_garden_dtkjkjb9vb</td><td>pipeline</td><td>Preparing</td><td><a href=\"https://ml.azure.com/runs/clever_garden_dtkjkjb9vb?wsid=/subscriptions/bed94d1c-96c0-4620-93e0-311ec364075a/resourcegroups/energy_prediction/workspaces/energ_prediction_ml&amp;tid=84daf99a-e460-4e17-a8f0-c41d756011a9\" target=\"_blank\" rel=\"noopener\">Link to Azure Machine Learning studio</a></td></tr></table>"
          },
          "metadata": {}
        }
      ],
      "execution_count": 80,
      "metadata": {
        "jupyter": {
          "source_hidden": false,
          "outputs_hidden": false
        },
        "nteract": {
          "transient": {
            "deleting": false
          }
        },
        "gather": {
          "logged": 1703505162273
        }
      }
    },
    {
      "cell_type": "code",
      "source": [],
      "outputs": [],
      "execution_count": null,
      "metadata": {
        "jupyter": {
          "source_hidden": false,
          "outputs_hidden": false
        },
        "nteract": {
          "transient": {
            "deleting": false
          }
        }
      }
    }
  ],
  "metadata": {
    "kernelspec": {
      "name": "python310-sdkv2",
      "language": "python",
      "display_name": "Python 3.10 - SDK v2"
    },
    "language_info": {
      "name": "python",
      "version": "3.10.11",
      "mimetype": "text/x-python",
      "codemirror_mode": {
        "name": "ipython",
        "version": 3
      },
      "pygments_lexer": "ipython3",
      "nbconvert_exporter": "python",
      "file_extension": ".py"
    },
    "microsoft": {
      "ms_spell_check": {
        "ms_spell_check_language": "en"
      },
      "host": {
        "AzureML": {
          "notebookHasBeenCompleted": true
        }
      }
    },
    "kernel_info": {
      "name": "python310-sdkv2"
    },
    "nteract": {
      "version": "nteract-front-end@1.0.0"
    }
  },
  "nbformat": 4,
  "nbformat_minor": 2
}